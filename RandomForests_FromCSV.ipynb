{
 "cells": [
  {
   "cell_type": "code",
   "execution_count": 1,
   "id": "91bebb11-edfa-4137-9b47-e094b434473b",
   "metadata": {},
   "outputs": [
    {
     "name": "stderr",
     "output_type": "stream",
     "text": [
      "C:\\Users\\charraden\\AppData\\Local\\Temp\\ipykernel_21468\\883941951.py:9: DtypeWarning: Columns (25) have mixed types. Specify dtype option on import or set low_memory=False.\n",
      "  data = pd.read_csv('19FB-131_Counts_MinLabel.csv')\n"
     ]
    },
    {
     "name": "stdout",
     "output_type": "stream",
     "text": [
      "Model Accuracy: 1.0\n",
      "Classification Report:\n",
      "              precision    recall  f1-score   support\n",
      "\n",
      "  Andalusite       1.00      1.00      1.00        12\n",
      "    Corundum       1.00      1.00      1.00        20\n",
      "   Muscovite       1.00      1.00      1.00        14\n",
      "      Pyrite       1.00      1.00      1.00        25\n",
      "      Quartz       1.00      1.00      1.00        14\n",
      "\n",
      "    accuracy                           1.00        85\n",
      "   macro avg       1.00      1.00      1.00        85\n",
      "weighted avg       1.00      1.00      1.00        85\n",
      "\n",
      "Model training, evaluation, and prediction completed successfully!\n"
     ]
    }
   ],
   "source": [
    "#Code developed by Cassady Harraden, Mineral Deposit Research Unit, University of British Columbia, June 2024\n",
    "import pandas as pd\n",
    "from sklearn.model_selection import train_test_split\n",
    "from sklearn.ensemble import RandomForestClassifier\n",
    "from sklearn.metrics import accuracy_score, classification_report\n",
    "import joblib\n",
    "\n",
    "#Load the CSV data\n",
    "data = pd.read_csv('19FB-131_Counts_MinLabel.csv')\n",
    "\n",
    "#Identify feature columns (excluding 'MinLabel', 'x', 'y', 'Video')\n",
    "feature_columns = [col for col in data.columns if col not in ['MinLabel', 'x', 'y', 'Video']]\n",
    "\n",
    "# Prepare features and target\n",
    "features = data[feature_columns]\n",
    "target = data['MinLabel']\n",
    "\n",
    "# Handle missing values in features\n",
    "features = features.fillna(features.mean())\n",
    "\n",
    "#Separate rows with no MinLabel\n",
    "missing_minlabel_indices = data[data['MinLabel'].isna()].index\n",
    "non_missing_minlabel_indices = data.dropna(subset=['MinLabel']).index\n",
    "\n",
    "# Create separate DataFrames\n",
    "features_with_minlabel = features.loc[non_missing_minlabel_indices]\n",
    "target_with_minlabel = target.loc[non_missing_minlabel_indices]\n",
    "\n",
    "#Split the data into training and testing sets\n",
    "X_train, X_test, y_train, y_test = train_test_split(features_with_minlabel, target_with_minlabel, test_size=0.2, random_state=42)\n",
    "\n",
    "#Train the Random Forest model\n",
    "rf_model = RandomForestClassifier(n_estimators=100, random_state=42)\n",
    "rf_model.fit(X_train, y_train)\n",
    "\n",
    "#Predict for all rows\n",
    "data['PredMin'] = rf_model.predict(features)\n",
    "\n",
    "#Report model accuracy on MinLabel rows\n",
    "y_pred_test = rf_model.predict(X_test)\n",
    "accuracy = accuracy_score(y_test, y_pred_test)\n",
    "report = classification_report(y_test, y_pred_test)\n",
    "print(f'Model Accuracy: {accuracy}')\n",
    "print('Classification Report:')\n",
    "print(report)\n",
    "\n",
    "# OPTIONAL: save the model for future use\n",
    "joblib.dump(rf_model, '19FB-131_RFModel.pkl')\n",
    "\n",
    "#Export Dataframe with predictions to a new CSV file\n",
    "data.to_csv('19FB-131_RFPredMin.csv', index=False)\n",
    "\n",
    "print(\"Model training, evaluation, and prediction completed successfully!\")\n"
   ]
  },
  {
   "cell_type": "code",
   "execution_count": null,
   "id": "6d9f56c3-b0fb-4561-b172-29e6ed951cef",
   "metadata": {},
   "outputs": [],
   "source": []
  }
 ],
 "metadata": {
  "kernelspec": {
   "display_name": "Python 3 (ipykernel)",
   "language": "python",
   "name": "python3"
  },
  "language_info": {
   "codemirror_mode": {
    "name": "ipython",
    "version": 3
   },
   "file_extension": ".py",
   "mimetype": "text/x-python",
   "name": "python",
   "nbconvert_exporter": "python",
   "pygments_lexer": "ipython3",
   "version": "3.9.13"
  }
 },
 "nbformat": 4,
 "nbformat_minor": 5
}
